{
  "nbformat": 4,
  "nbformat_minor": 0,
  "metadata": {
    "colab": {
      "provenance": [],
      "authorship_tag": "ABX9TyONf3Ni75Vv32i1liYaO8zV",
      "include_colab_link": true
    },
    "kernelspec": {
      "name": "python3",
      "display_name": "Python 3"
    },
    "language_info": {
      "name": "python"
    }
  },
  "cells": [
    {
      "cell_type": "markdown",
      "metadata": {
        "id": "view-in-github",
        "colab_type": "text"
      },
      "source": [
        "<a href=\"https://colab.research.google.com/github/meyrellesilva/Sistema-Banc-rio-com-Python/blob/main/Sistema_Bancario_com_Python.ipynb\" target=\"_parent\"><img src=\"https://colab.research.google.com/assets/colab-badge.svg\" alt=\"Open In Colab\"/></a>"
      ]
    },
    {
      "cell_type": "code",
      "execution_count": null,
      "metadata": {
        "id": "wvrykCuUiT54"
      },
      "outputs": [],
      "source": []
    },
    {
      "cell_type": "markdown",
      "source": [
        "#Criando um Sistema Bancário com Python"
      ],
      "metadata": {
        "id": "iCMWFHEBjFSB"
      }
    },
    {
      "cell_type": "code",
      "source": [
        "menu = \"\"\"\n",
        "\n",
        "[d] Depositar\n",
        "[s] Sacar\n",
        "[e] Extrato\n",
        "[q] Sair\n",
        "\n",
        "=> \"\"\"\n",
        "\n",
        "saldo = 0\n",
        "limite = 500\n",
        "extrato = \"\"\n",
        "numero_saques = 0\n",
        "LIMITE_SAQUES = 2\n",
        "\n",
        "while True:\n",
        "    opcao = input(menu)\n",
        "\n",
        "    if opcao == \"d\":\n",
        "      valor = float(input(\"Informe o valor do depósito: \"))\n",
        "      \n",
        "    if valor > 0:\n",
        "          saldo += valor\n",
        "          extrato += f'Deposito: R$ {valor: .2f}\\n'\n",
        "    else:\n",
        "          print(\"Operação falhou! O valor informado é inválido. Tente novamente!\")\n",
        "\n",
        "    if opcao == 's':\n",
        "\n",
        "        valor = float(input(\"Informe o valor do saque: \"))\n",
        "\n",
        "        excedeu_saldo = valor > saldo\n",
        "\n",
        "        excedeu_limite = valor > limite\n",
        "\n",
        "        excedeu_saques = numero_saques >= LIMITE_SAQUES\n",
        "      \n",
        "    if excedeu_saldo:\n",
        "        print(\"Operação falhou! Você não possui saldo sufuciente.\")\n",
        "\n",
        "    elif excedeu_limite:\n",
        "        print(\"Operação falhou! O valor do saque excedeu o limite.\")\n",
        "      \n",
        "    elif excedeu_saques:\n",
        "        print(\"Operação falhou! Número de saques foi excedido.\")\n",
        "\n",
        "    elif valor > 0:\n",
        "        saldo -= valor\n",
        "\n",
        "        extrato += f'Saque: R$ {valor: .2f}\\n'\n",
        "\n",
        "        numero_saques += 1\n",
        "\n",
        "    else: \n",
        "        print(\"Operação falhou! O valor informado é inválido.\")\n",
        "\n",
        "    if opcao == \"e\":\n",
        "\n",
        "        print(\"\\n=============EXTRATO==============\")\n",
        "        print(\"Não foram realizadas movimentações.\" if not extrato else extrato)\n",
        "        print(f\"\\nSaldo: R$ {saldo: .2f}\")\n",
        "        print(\"===============================\")        \n",
        "\n",
        "    elif opcao ==\"q\":\n",
        "          break\n",
        "    else:\n",
        "        print(\"Operação inválida, por favor selecione novamente a operação desejada.\")"
      ],
      "metadata": {
        "colab": {
          "base_uri": "https://localhost:8080/"
        },
        "id": "ttOKOK15j8pQ",
        "outputId": "a236ca53-9e7f-4b4e-ae9a-1b8bd5d6e57c"
      },
      "execution_count": null,
      "outputs": [
        {
          "output_type": "stream",
          "name": "stdout",
          "text": [
            "\n",
            "\n",
            "[d] Depositar\n",
            "[s] Sacar\n",
            "[e] Extrato\n",
            "[q] Sair\n",
            "\n",
            "=> s\n",
            "Informe o valor do saque: 10\n",
            "Operação inválica, por favor selecione novamente a operação desejada.\n",
            "\n",
            "\n",
            "[d] Depositar\n",
            "[s] Sacar\n",
            "[e] Extrato\n",
            "[q] Sair\n",
            "\n",
            "=> d\n",
            "Informe o valor do depósito: 10\n",
            "Operação inválica, por favor selecione novamente a operação desejada.\n",
            "\n",
            "\n",
            "[d] Depositar\n",
            "[s] Sacar\n",
            "[e] Extrato\n",
            "[q] Sair\n",
            "\n",
            "=> e\n",
            "\n",
            "=============EXTRATO==============\n",
            "Deposito: R$  25.00\n",
            "Saque: R$  10.00\n",
            "Deposito: R$  10.00\n",
            "Saque: R$  10.00\n",
            "Deposito: R$  10.00\n",
            "Saque: R$  10.00\n",
            "\n",
            "\n",
            "Saldo: R$  15.00\n",
            "===============================\n"
          ]
        }
      ]
    }
  ]
}